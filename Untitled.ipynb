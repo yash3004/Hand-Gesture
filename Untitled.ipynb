{
 "cells": [
  {
   "cell_type": "code",
   "execution_count": 25,
   "id": "e33a70aa",
   "metadata": {},
   "outputs": [],
   "source": [
    "from keras.models import load_model\n",
    "model = load_model(\"Best_points.h5\")\n",
    "import numpy as np\n",
    "import matplotlib.pyplot as plt\n",
    "import pandas as pd"
   ]
  },
  {
   "cell_type": "code",
   "execution_count": 26,
   "id": "14810906",
   "metadata": {},
   "outputs": [],
   "source": [
    "map_images = pd.read_csv(\"mapping_val.txt\")\n",
    "ascii_map = []\n",
    "for i in map_images.values:\n",
    "    ascii_map.append(i[0].split()[1])\n",
    "\n",
    "\n",
    "# Adding character to associated ASCII Value\n",
    "character = []\n",
    "for i in ascii_map:\n",
    "    character.append(chr(int(i)))\n",
    "# plt.imshow(np.rot90(np.fliplr(train_x[1].reshape(28,28))))\n",
    "character = pd.DataFrame(character)\n"
   ]
  },
  {
   "cell_type": "code",
   "execution_count": 27,
   "id": "fa7e8cf6",
   "metadata": {},
   "outputs": [],
   "source": [
    "ascii_map = pd.DataFrame(ascii_map)\n",
    "ascii_map[\"Character\"] = character\n",
    "ascii_map.to_csv(\"mapping.csv\",index=False,header=True)"
   ]
  },
  {
   "cell_type": "code",
   "execution_count": 28,
   "id": "65914ee5",
   "metadata": {},
   "outputs": [
    {
     "name": "stdout",
     "output_type": "stream",
     "text": [
      "(28, 28, 3)\n",
      "1/1 [==============================] - 0s 31ms/step\n",
      "Prediction :  I\n"
     ]
    },
    {
     "data": {
      "image/png": "[encoded data removed]",
      "text/plain": [
       "<Figure size 640x480 with 1 Axes>"
      ]
     },
     "metadata": {},
     "output_type": "display_data"
    }
   ],
   "source": [
    "from keras.preprocessing import image\n",
    "import cv2\n",
    "\n",
    "img_sh_lst = []\n",
    "img = image.load_img(\"corpes.jpg\",target_size=(28,28))\n",
    "x = image.img_to_array(img)\n",
    "print(x.shape)\n",
    "x = x/255.0\n",
    "\n",
    "gray_image = cv2.cvtColor(x, cv2.COLOR_BGR2GRAY)\n",
    "gray_image = np.expand_dims(gray_image, axis=-1)\n",
    "plt.imshow(gray_image)\n",
    "gray_image = np.expand_dims(gray_image, axis=0)\n",
    "cl = model.predict(gray_image)\n",
    "cl = list(cl[0])\n",
    "\n",
    "print(\"Prediction : \",ascii_map[\"Character\"][cl.index(max(cl))])"
   ]
  },
  {
   "cell_type": "code",
   "execution_count": null,
   "id": "1a40eedc",
   "metadata": {},
   "outputs": [],
   "source": []
  },
  {
   "cell_type": "code",
   "execution_count": null,
   "id": "33d00967",
   "metadata": {},
   "outputs": [],
   "source": []
  }
 ],
 "metadata": {
  "kernelspec": {
   "display_name": "Python 3 (ipykernel)",
   "language": "python",
   "name": "python3"
  },
  "language_info": {
   "codemirror_mode": {
    "name": "ipython",
    "version": 3
   },
   "file_extension": ".py",
   "mimetype": "text/x-python",
   "name": "python",
   "nbconvert_exporter": "python",
   "pygments_lexer": "ipython3",
   "version": "3.9.16"
  }
 },
 "nbformat": 4,
 "nbformat_minor": 5
}
